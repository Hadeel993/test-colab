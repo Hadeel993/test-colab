{
  "nbformat": 4,
  "nbformat_minor": 0,
  "metadata": {
    "colab": {
      "name": "intro.ipynb",
      "provenance": [],
      "collapsed_sections": [],
      "authorship_tag": "ABX9TyN2csl+Ab7tMIKX6rkEJsje",
      "include_colab_link": true
    },
    "kernelspec": {
      "name": "python3",
      "display_name": "Python 3"
    },
    "language_info": {
      "name": "python"
    }
  },
  "cells": [
    {
      "cell_type": "markdown",
      "metadata": {
        "id": "view-in-github",
        "colab_type": "text"
      },
      "source": [
        "<a href=\"https://colab.research.google.com/github/Hadeel993/test-colab/blob/main/tamplate.ipynb\" target=\"_parent\"><img src=\"https://colab.research.google.com/assets/colab-badge.svg\" alt=\"Open In Colab\"/></a>"
      ]
    },
    {
      "cell_type": "code",
      "execution_count": 1,
      "metadata": {
        "colab": {
          "base_uri": "https://localhost:8080/"
        },
        "id": "35jjjChCZ7ju",
        "outputId": "cff2e010-f589-4658-e7d2-2f51f89fd2a3"
      },
      "outputs": [
        {
          "output_type": "stream",
          "name": "stdout",
          "text": [
            "Hello Hadeel\n"
          ]
        }
      ],
      "source": [
        "print ('Hello Hadeel')"
      ]
    },
    {
      "cell_type": "code",
      "source": [
        "print('Hello colab')\n"
      ],
      "metadata": {
        "id": "ysuVledDfakV",
        "outputId": "1b4270a3-c499-485d-a6f7-ea3724d42f2e",
        "colab": {
          "base_uri": "https://localhost:8080/"
        }
      },
      "execution_count": 2,
      "outputs": [
        {
          "output_type": "stream",
          "name": "stdout",
          "text": [
            "Hello colab\n"
          ]
        }
      ]
    },
    {
      "cell_type": "code",
      "source": [
        ""
      ],
      "metadata": {
        "id": "WABNp2jgfjyP"
      },
      "execution_count": null,
      "outputs": []
    }
  ]
}